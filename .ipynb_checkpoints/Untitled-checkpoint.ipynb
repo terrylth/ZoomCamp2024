{
 "cells": [
  {
   "cell_type": "code",
   "execution_count": 1,
   "id": "bbbaf865-1d60-4204-a4c6-ee671717834e",
   "metadata": {},
   "outputs": [
    {
     "name": "stdout",
     "output_type": "stream",
     "text": [
      "Hello World in Codespace\n"
     ]
    }
   ],
   "source": [
    "print('Hello World in Codespace')"
   ]
  },
  {
   "cell_type": "code",
   "execution_count": null,
   "id": "cf81ae92-16d8-4b4a-9d17-be12aa57cb25",
   "metadata": {},
   "outputs": [],
   "source": []
  }
 ],
 "metadata": {
  "kernelspec": {
   "display_name": "Python 3 (ipykernel)",
   "language": "python",
   "name": "python3"
  },
  "language_info": {
   "codemirror_mode": {
    "name": "ipython",
    "version": 3
   },
   "file_extension": ".py",
   "mimetype": "text/x-python",
   "name": "python",
   "nbconvert_exporter": "python",
   "pygments_lexer": "ipython3",
   "version": "3.10.13"
  }
 },
 "nbformat": 4,
 "nbformat_minor": 5
}
